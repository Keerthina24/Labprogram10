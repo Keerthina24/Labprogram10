{
 "cells": [
  {
   "cell_type": "code",
   "execution_count": 1,
   "metadata": {},
   "outputs": [
    {
     "name": "stdout",
     "output_type": "stream",
     "text": [
      "Collecting llvmlite\n",
      "  Using cached llvmlite-0.35.0-cp36-cp36m-manylinux2010_i686.whl (27.4 MB)\n",
      "Installing collected packages: llvmlite\n",
      "Successfully installed llvmlite-0.35.0\n"
     ]
    }
   ],
   "source": [
    "!pip install --ignore-installed llvmlite\n"
   ]
  },
  {
   "cell_type": "code",
   "execution_count": 3,
   "metadata": {},
   "outputs": [
    {
     "name": "stdout",
     "output_type": "stream",
     "text": [
      "Collecting scikit-lego\n",
      "  Using cached scikit_lego-0.6.3-py2.py3-none-any.whl (212 kB)\n",
      "Requirement already satisfied: numpy>=1.16.0 in /home/mite/anaconda3/lib/python3.6/site-packages (from scikit-lego) (1.19.5)\n",
      "Requirement already satisfied: scipy>=1.2.0 in /home/mite/anaconda3/lib/python3.6/site-packages (from scikit-lego) (1.5.4)\n",
      "Collecting autograd>=1.2\n",
      "  Using cached autograd-1.3-py3-none-any.whl\n",
      "Collecting Deprecated>=1.2.6\n",
      "  Using cached Deprecated-1.2.10-py2.py3-none-any.whl (8.7 kB)\n",
      "Requirement already satisfied: wrapt<2,>=1.10 in /home/mite/anaconda3/lib/python3.6/site-packages (from Deprecated>=1.2.6->scikit-lego) (1.10.11)\n",
      "Collecting future>=0.15.2\n",
      "  Using cached future-0.18.2-py3-none-any.whl\n",
      "Collecting pandas>=0.23.4\n",
      "  Using cached pandas-1.1.5-cp36-cp36m-manylinux1_i686.whl (9.1 MB)\n",
      "Requirement already satisfied: python-dateutil>=2.7.3 in /home/mite/anaconda3/lib/python3.6/site-packages (from pandas>=0.23.4->scikit-lego) (2.7.3)\n",
      "Requirement already satisfied: pytz>=2017.2 in /home/mite/anaconda3/lib/python3.6/site-packages (from pandas>=0.23.4->scikit-lego) (2018.4)\n",
      "Collecting patsy>=0.5.1\n",
      "  Using cached patsy-0.5.1-py2.py3-none-any.whl (231 kB)\n",
      "Requirement already satisfied: six in /home/mite/anaconda3/lib/python3.6/site-packages (from patsy>=0.5.1->scikit-lego) (1.11.0)\n",
      "Collecting scikit-learn>=0.20.2\n",
      "  Using cached scikit_learn-0.24.0-cp36-cp36m-manylinux2010_i686.whl (21.1 MB)\n",
      "Requirement already satisfied: threadpoolctl>=2.0.0 in /home/mite/anaconda3/lib/python3.6/site-packages (from scikit-learn>=0.20.2->scikit-lego) (2.1.0)\n",
      "Requirement already satisfied: joblib>=0.11 in /home/mite/anaconda3/lib/python3.6/site-packages/joblib-1.0.0-py3.6.egg (from scikit-learn>=0.20.2->scikit-lego) (1.0.0)\n",
      "Collecting umap-learn>=0.4.3\n",
      "  Using cached umap_learn-0.5.0-py3-none-any.whl\n",
      "Collecting numba>=0.49\n",
      "  Using cached numba-0.52.0-cp36-cp36m-manylinux2014_i686.whl (2.7 MB)\n",
      "Requirement already satisfied: llvmlite<0.36,>=0.35.0 in /home/mite/anaconda3/lib/python3.6/site-packages (from numba>=0.49->umap-learn>=0.4.3->scikit-lego) (0.35.0)\n",
      "Requirement already satisfied: setuptools in /home/mite/anaconda3/lib/python3.6/site-packages (from numba>=0.49->umap-learn>=0.4.3->scikit-lego) (39.1.0)\n",
      "Collecting pynndescent>=0.5\n",
      "  Using cached pynndescent-0.5.1-py3-none-any.whl\n",
      "Installing collected packages: scikit-learn, numba, pynndescent, future, umap-learn, patsy, pandas, Deprecated, autograd, scikit-lego\n",
      "  Attempting uninstall: scikit-learn\n",
      "    Found existing installation: scikit-learn 0.19.1\n",
      "    Uninstalling scikit-learn-0.19.1:\n",
      "      Successfully uninstalled scikit-learn-0.19.1\n",
      "  Attempting uninstall: numba\n",
      "    Found existing installation: numba 0.38.0\n",
      "    Uninstalling numba-0.38.0:\n",
      "      Successfully uninstalled numba-0.38.0\n",
      "  Attempting uninstall: patsy\n",
      "    Found existing installation: patsy 0.5.0\n",
      "    Uninstalling patsy-0.5.0:\n",
      "      Successfully uninstalled patsy-0.5.0\n",
      "  Attempting uninstall: pandas\n",
      "    Found existing installation: pandas 0.23.0\n",
      "    Uninstalling pandas-0.23.0:\n",
      "      Successfully uninstalled pandas-0.23.0\n",
      "\u001b[31mERROR: pip's dependency resolver does not currently take into account all the packages that are installed. This behaviour is the source of the following dependency conflicts.\n",
      "pgmpy 0.1.13 requires torch, which is not installed.\u001b[0m\n",
      "Successfully installed Deprecated-1.2.10 autograd-1.3 future-0.18.2 numba-0.52.0 pandas-1.1.5 patsy-0.5.1 pynndescent-0.5.1 scikit-learn-0.24.0 scikit-lego-0.6.3 umap-learn-0.5.0\n"
     ]
    }
   ],
   "source": [
    "!python -m pip install scikit-lego"
   ]
  },
  {
   "cell_type": "code",
   "execution_count": 5,
   "metadata": {},
   "outputs": [
    {
     "data": {
      "text/plain": [
       "[<matplotlib.lines.Line2D at 0xa5950a8c>]"
      ]
     },
     "execution_count": 5,
     "metadata": {},
     "output_type": "execute_result"
    },
    {
     "data": {
      "image/png": "[encoded data removed]",
      "text/plain": [
       "<Figure size 864x288 with 1 Axes>"
      ]
     },
     "metadata": {},
     "output_type": "display_data"
    }
   ],
   "source": [
    "import numpy as np\n",
    "import matplotlib.pylab as plt\n",
    "from sklego.linear_model import LowessRegression\n",
    "n=100\n",
    "xs=np.linspace(0,np.pi,n)\n",
    "ys=1+np.sin(xs)+np.cos(xs**2)+np.random.normal(0,0.1,n)\n",
    "mod=LowessRegression(sigma=0.01,span=0.5).fit(xs.reshape(-1,1),ys)\n",
    "xs_new=np.linspace(-1,np.pi+1,n*2)\n",
    "preds=mod.predict(xs_new.reshape(-1,1))\n",
    "plt.figure(figsize=(12,4))\n",
    "plt.scatter(xs,ys)\n",
    "plt.plot(xs_new,preds,color='orange')"
   ]
  },
  {
   "cell_type": "code",
   "execution_count": null,
   "metadata": {},
   "outputs": [],
   "source": []
  }
 ],
 "metadata": {
  "kernelspec": {
   "display_name": "Python 3",
   "language": "python",
   "name": "python3"
  },
  "language_info": {
   "codemirror_mode": {
    "name": "ipython",
    "version": 3
   },
   "file_extension": ".py",
   "mimetype": "text/x-python",
   "name": "python",
   "nbconvert_exporter": "python",
   "pygments_lexer": "ipython3",
   "version": "3.6.5"
  }
 },
 "nbformat": 4,
 "nbformat_minor": 2
}
